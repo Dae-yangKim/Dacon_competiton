{
 "cells": [
  {
   "cell_type": "markdown",
   "metadata": {},
   "source": [
    "# Baseline Model 커널"
   ]
  },
  {
   "cell_type": "code",
   "execution_count": 204,
   "metadata": {},
   "outputs": [],
   "source": [
    "# library import\n",
    "\n",
    "import pandas as pd\n",
    "import numpy as np\n",
    "import matplotlib.pyplot as plt\n",
    "import seaborn as sns"
   ]
  },
  {
   "cell_type": "code",
   "execution_count": 205,
   "metadata": {},
   "outputs": [],
   "source": [
    "path = '/Users/kengohirano/Desktop/Dacon/Dacon_competiton/2024.01.15/data/open/'\n",
    "\n",
    "train = pd.read_csv(path + 'train.csv')\n",
    "test = pd.read_csv(path + 'test.csv')"
   ]
  },
  {
   "cell_type": "code",
   "execution_count": 206,
   "metadata": {},
   "outputs": [
    {
     "data": {
      "text/html": [
       "<div>\n",
       "<style scoped>\n",
       "    .dataframe tbody tr th:only-of-type {\n",
       "        vertical-align: middle;\n",
       "    }\n",
       "\n",
       "    .dataframe tbody tr th {\n",
       "        vertical-align: top;\n",
       "    }\n",
       "\n",
       "    .dataframe thead th {\n",
       "        text-align: right;\n",
       "    }\n",
       "</style>\n",
       "<table border=\"1\" class=\"dataframe\">\n",
       "  <thead>\n",
       "    <tr style=\"text-align: right;\">\n",
       "      <th></th>\n",
       "      <th>ID</th>\n",
       "      <th>대출금액</th>\n",
       "      <th>대출기간</th>\n",
       "      <th>근로기간</th>\n",
       "      <th>주택소유상태</th>\n",
       "      <th>연간소득</th>\n",
       "      <th>부채_대비_소득_비율</th>\n",
       "      <th>총계좌수</th>\n",
       "      <th>대출목적</th>\n",
       "      <th>최근_2년간_연체_횟수</th>\n",
       "      <th>총상환원금</th>\n",
       "      <th>총상환이자</th>\n",
       "      <th>총연체금액</th>\n",
       "      <th>연체계좌수</th>\n",
       "      <th>대출등급</th>\n",
       "    </tr>\n",
       "  </thead>\n",
       "  <tbody>\n",
       "    <tr>\n",
       "      <th>0</th>\n",
       "      <td>TRAIN_00000</td>\n",
       "      <td>12480000</td>\n",
       "      <td>36 months</td>\n",
       "      <td>6 years</td>\n",
       "      <td>RENT</td>\n",
       "      <td>72000000</td>\n",
       "      <td>18.90</td>\n",
       "      <td>15</td>\n",
       "      <td>부채 통합</td>\n",
       "      <td>0</td>\n",
       "      <td>0</td>\n",
       "      <td>0.0</td>\n",
       "      <td>0.0</td>\n",
       "      <td>0.0</td>\n",
       "      <td>C</td>\n",
       "    </tr>\n",
       "    <tr>\n",
       "      <th>1</th>\n",
       "      <td>TRAIN_00001</td>\n",
       "      <td>14400000</td>\n",
       "      <td>60 months</td>\n",
       "      <td>10+ years</td>\n",
       "      <td>MORTGAGE</td>\n",
       "      <td>130800000</td>\n",
       "      <td>22.33</td>\n",
       "      <td>21</td>\n",
       "      <td>주택 개선</td>\n",
       "      <td>0</td>\n",
       "      <td>373572</td>\n",
       "      <td>234060.0</td>\n",
       "      <td>0.0</td>\n",
       "      <td>0.0</td>\n",
       "      <td>B</td>\n",
       "    </tr>\n",
       "    <tr>\n",
       "      <th>2</th>\n",
       "      <td>TRAIN_00002</td>\n",
       "      <td>12000000</td>\n",
       "      <td>36 months</td>\n",
       "      <td>5 years</td>\n",
       "      <td>MORTGAGE</td>\n",
       "      <td>96000000</td>\n",
       "      <td>8.60</td>\n",
       "      <td>14</td>\n",
       "      <td>부채 통합</td>\n",
       "      <td>0</td>\n",
       "      <td>928644</td>\n",
       "      <td>151944.0</td>\n",
       "      <td>0.0</td>\n",
       "      <td>0.0</td>\n",
       "      <td>A</td>\n",
       "    </tr>\n",
       "  </tbody>\n",
       "</table>\n",
       "</div>"
      ],
      "text/plain": [
       "            ID      대출금액        대출기간       근로기간    주택소유상태       연간소득  \\\n",
       "0  TRAIN_00000  12480000   36 months    6 years      RENT   72000000   \n",
       "1  TRAIN_00001  14400000   60 months  10+ years  MORTGAGE  130800000   \n",
       "2  TRAIN_00002  12000000   36 months    5 years  MORTGAGE   96000000   \n",
       "\n",
       "   부채_대비_소득_비율  총계좌수   대출목적  최근_2년간_연체_횟수   총상환원금     총상환이자  총연체금액  연체계좌수 대출등급  \n",
       "0        18.90    15  부채 통합             0       0       0.0    0.0    0.0    C  \n",
       "1        22.33    21  주택 개선             0  373572  234060.0    0.0    0.0    B  \n",
       "2         8.60    14  부채 통합             0  928644  151944.0    0.0    0.0    A  "
      ]
     },
     "execution_count": 206,
     "metadata": {},
     "output_type": "execute_result"
    }
   ],
   "source": [
    "train.head(3)"
   ]
  },
  {
   "cell_type": "code",
   "execution_count": 207,
   "metadata": {},
   "outputs": [
    {
     "data": {
      "text/plain": [
       "ID        96294\n",
       "대출기간          2\n",
       "근로기간         16\n",
       "주택소유상태        4\n",
       "대출목적         12\n",
       "대출등급          7\n",
       "dtype: int64"
      ]
     },
     "execution_count": 207,
     "metadata": {},
     "output_type": "execute_result"
    }
   ],
   "source": [
    "train.select_dtypes('object').nunique()"
   ]
  },
  {
   "cell_type": "code",
   "execution_count": 208,
   "metadata": {},
   "outputs": [
    {
     "name": "stdout",
     "output_type": "stream",
     "text": [
      "대출기간 Unique Values : \n",
      " [' 36 months' ' 60 months']\n",
      "대출기간 Unique Values : \n",
      " [' 36 months' ' 60 months']\n",
      "근로기간 Unique Values : \n",
      " ['6 years' '10+ years' '5 years' '8 years' 'Unknown' '9 years' '2 years'\n",
      " '1 year' '3 years' '7 years' '4 years' '< 1 year' '10+years' '<1 year'\n",
      " '3' '1 years']\n",
      "근로기간 Unique Values : \n",
      " ['8 years' '5 years' '6 years' 'Unknown' '10+ years' '3 years' '< 1 year'\n",
      " '1 year' '7 years' '4 years' '2 years' '9 years' '10+years' '<1 year' '3'\n",
      " '1 years']\n",
      "주택소유상태 Unique Values : \n",
      " ['RENT' 'MORTGAGE' 'OWN' 'ANY']\n",
      "주택소유상태 Unique Values : \n",
      " ['MORTGAGE' 'RENT' 'OWN']\n",
      "대출목적 Unique Values : \n",
      " ['부채 통합' '주택 개선' '주요 구매' '휴가' '의료' '자동차' '신용 카드' '소규모 사업' '기타' '이사' '주택'\n",
      " '재생 에너지']\n",
      "대출목적 Unique Values : \n",
      " ['주택 개선' '부채 통합' '신용 카드' '기타' '주요 구매' '이사' '휴가' '소규모 사업' '주택' '의료' '자동차'\n",
      " '재생 에너지' '결혼']\n"
     ]
    }
   ],
   "source": [
    "def check(df , col):\n",
    "    print(f\"{col} Unique Values : \\n {df[col].unique()}\")\n",
    "\n",
    "for col in ['대출기간' , '근로기간' , '주택소유상태' , '대출목적']:\n",
    "    check(train , col)\n",
    "    check(test , col)"
   ]
  },
  {
   "cell_type": "code",
   "execution_count": 209,
   "metadata": {},
   "outputs": [
    {
     "name": "stdout",
     "output_type": "stream",
     "text": [
      "결혼 not in train data\n"
     ]
    }
   ],
   "source": [
    "for v in test['대출목적'].unique():\n",
    "    if v not in train['대출목적'].unique():\n",
    "        print(f\"{v} not in train data\")"
   ]
  },
  {
   "cell_type": "code",
   "execution_count": 210,
   "metadata": {},
   "outputs": [],
   "source": [
    "# 근로기간 데이터 변경\n",
    "\n",
    "category = ['< 1 year' , '10+years' , '<1 year' , '3' , '1 year']\n",
    "\n",
    "train.loc[(train['근로기간'] == category[0]) | (train['근로기간'] == category[2]) | (train['근로기간'] == category[4]) , '근로기간'] = '1 years'\n",
    "test.loc[(test['근로기간'] == category[0]) | (test['근로기간'] == category[2]) | (test['근로기간'] == category[4]) , '근로기간'] = '1 years'\n",
    "\n",
    "train.loc[(train['근로기간'] == category[1]) , '근로기간'] = '10 years'\n",
    "test.loc[(test['근로기간'] == category[1]) , '근로기간'] = '10 years'\n",
    "\n",
    "train.loc[(train['근로기간'] == category[3]) , '근로기간'] = '3 years'\n",
    "test.loc[(test['근로기간'] == category[3]) , '근로기간'] = '3 years'"
   ]
  },
  {
   "cell_type": "code",
   "execution_count": 211,
   "metadata": {},
   "outputs": [],
   "source": [
    "test.loc[test['대출목적'] == '결혼' , '대출목적'] = '부채 통합'"
   ]
  },
  {
   "cell_type": "code",
   "execution_count": 212,
   "metadata": {},
   "outputs": [],
   "source": [
    "from sklearn.preprocessing import LabelEncoder\n",
    "\n",
    "encoder = LabelEncoder()\n",
    "train['대출기간'] = encoder.fit_transform(train['대출기간'])\n",
    "test['대출기간'] = encoder.transform(test['대출기간'])"
   ]
  },
  {
   "cell_type": "code",
   "execution_count": 213,
   "metadata": {},
   "outputs": [],
   "source": [
    "train['주택소유상태'] = encoder.fit_transform(train['주택소유상태'])\n",
    "test['주택소유상태'] = encoder.transform(test['주택소유상태'])"
   ]
  },
  {
   "cell_type": "code",
   "execution_count": 214,
   "metadata": {},
   "outputs": [
    {
     "name": "stdout",
     "output_type": "stream",
     "text": [
      "Before Target Value Count \n",
      " 대출등급\n",
      "B    28817\n",
      "C    27623\n",
      "A    16772\n",
      "D    13354\n",
      "E     7354\n",
      "F     1954\n",
      "G      420\n",
      "Name: count, dtype: int64\n",
      "After Target Value Count \n",
      " 대출등급\n",
      "1    28817\n",
      "2    27623\n",
      "0    16772\n",
      "3    13354\n",
      "4     7354\n",
      "5     1954\n",
      "6      420\n",
      "Name: count, dtype: int64\n"
     ]
    }
   ],
   "source": [
    "print(f\"Before Target Value Count \\n {train['대출등급'].value_counts()}\")\n",
    "train['대출등급'] = encoder.fit_transform(train['대출등급'])\n",
    "print(f\"After Target Value Count \\n {train['대출등급'].value_counts()}\")\n"
   ]
  },
  {
   "cell_type": "code",
   "execution_count": 215,
   "metadata": {},
   "outputs": [],
   "source": [
    "mapp = {\n",
    "    1 : 'B' ,\n",
    "    2 : 'C' ,\n",
    "    0 : 'A' ,\n",
    "    3 : 'D' ,\n",
    "    4 : 'E' ,\n",
    "    5 : 'F' ,\n",
    "    6 : 'G'\n",
    "}"
   ]
  },
  {
   "cell_type": "code",
   "execution_count": 216,
   "metadata": {},
   "outputs": [],
   "source": [
    "from category_encoders.target_encoder import TargetEncoder\n",
    "\n",
    "for col in ['근로기간' , '대출목적']:\n",
    "    te = TargetEncoder(cols = [col])\n",
    "    train[col] = te.fit_transform(train[col] , train['대출등급'])\n",
    "    test[col] = te.transform(test[col])"
   ]
  },
  {
   "cell_type": "code",
   "execution_count": 217,
   "metadata": {},
   "outputs": [],
   "source": [
    "train['대출등급'] = train['대출등급'].map(mapp)"
   ]
  },
  {
   "cell_type": "code",
   "execution_count": 218,
   "metadata": {},
   "outputs": [
    {
     "data": {
      "text/html": [
       "<div>\n",
       "<style scoped>\n",
       "    .dataframe tbody tr th:only-of-type {\n",
       "        vertical-align: middle;\n",
       "    }\n",
       "\n",
       "    .dataframe tbody tr th {\n",
       "        vertical-align: top;\n",
       "    }\n",
       "\n",
       "    .dataframe thead th {\n",
       "        text-align: right;\n",
       "    }\n",
       "</style>\n",
       "<table border=\"1\" class=\"dataframe\">\n",
       "  <thead>\n",
       "    <tr style=\"text-align: right;\">\n",
       "      <th></th>\n",
       "      <th>ID</th>\n",
       "      <th>대출금액</th>\n",
       "      <th>대출기간</th>\n",
       "      <th>근로기간</th>\n",
       "      <th>주택소유상태</th>\n",
       "      <th>연간소득</th>\n",
       "      <th>부채_대비_소득_비율</th>\n",
       "      <th>총계좌수</th>\n",
       "      <th>대출목적</th>\n",
       "      <th>최근_2년간_연체_횟수</th>\n",
       "      <th>총상환원금</th>\n",
       "      <th>총상환이자</th>\n",
       "      <th>총연체금액</th>\n",
       "      <th>연체계좌수</th>\n",
       "      <th>대출등급</th>\n",
       "    </tr>\n",
       "  </thead>\n",
       "  <tbody>\n",
       "    <tr>\n",
       "      <th>0</th>\n",
       "      <td>TRAIN_00000</td>\n",
       "      <td>12480000</td>\n",
       "      <td>0</td>\n",
       "      <td>1.744192</td>\n",
       "      <td>3</td>\n",
       "      <td>72000000</td>\n",
       "      <td>18.90</td>\n",
       "      <td>15</td>\n",
       "      <td>1.850082</td>\n",
       "      <td>0</td>\n",
       "      <td>0</td>\n",
       "      <td>0.0</td>\n",
       "      <td>0.0</td>\n",
       "      <td>0.0</td>\n",
       "      <td>C</td>\n",
       "    </tr>\n",
       "    <tr>\n",
       "      <th>1</th>\n",
       "      <td>TRAIN_00001</td>\n",
       "      <td>14400000</td>\n",
       "      <td>1</td>\n",
       "      <td>1.679880</td>\n",
       "      <td>1</td>\n",
       "      <td>130800000</td>\n",
       "      <td>22.33</td>\n",
       "      <td>21</td>\n",
       "      <td>1.658929</td>\n",
       "      <td>0</td>\n",
       "      <td>373572</td>\n",
       "      <td>234060.0</td>\n",
       "      <td>0.0</td>\n",
       "      <td>0.0</td>\n",
       "      <td>B</td>\n",
       "    </tr>\n",
       "    <tr>\n",
       "      <th>2</th>\n",
       "      <td>TRAIN_00002</td>\n",
       "      <td>12000000</td>\n",
       "      <td>0</td>\n",
       "      <td>1.733098</td>\n",
       "      <td>1</td>\n",
       "      <td>96000000</td>\n",
       "      <td>8.60</td>\n",
       "      <td>14</td>\n",
       "      <td>1.850082</td>\n",
       "      <td>0</td>\n",
       "      <td>928644</td>\n",
       "      <td>151944.0</td>\n",
       "      <td>0.0</td>\n",
       "      <td>0.0</td>\n",
       "      <td>A</td>\n",
       "    </tr>\n",
       "  </tbody>\n",
       "</table>\n",
       "</div>"
      ],
      "text/plain": [
       "            ID      대출금액  대출기간      근로기간  주택소유상태       연간소득  부채_대비_소득_비율  \\\n",
       "0  TRAIN_00000  12480000     0  1.744192       3   72000000        18.90   \n",
       "1  TRAIN_00001  14400000     1  1.679880       1  130800000        22.33   \n",
       "2  TRAIN_00002  12000000     0  1.733098       1   96000000         8.60   \n",
       "\n",
       "   총계좌수      대출목적  최근_2년간_연체_횟수   총상환원금     총상환이자  총연체금액  연체계좌수 대출등급  \n",
       "0    15  1.850082             0       0       0.0    0.0    0.0    C  \n",
       "1    21  1.658929             0  373572  234060.0    0.0    0.0    B  \n",
       "2    14  1.850082             0  928644  151944.0    0.0    0.0    A  "
      ]
     },
     "execution_count": 218,
     "metadata": {},
     "output_type": "execute_result"
    }
   ],
   "source": [
    "train.head(3)"
   ]
  },
  {
   "cell_type": "code",
   "execution_count": 219,
   "metadata": {},
   "outputs": [
    {
     "data": {
      "text/html": [
       "<div>\n",
       "<style scoped>\n",
       "    .dataframe tbody tr th:only-of-type {\n",
       "        vertical-align: middle;\n",
       "    }\n",
       "\n",
       "    .dataframe tbody tr th {\n",
       "        vertical-align: top;\n",
       "    }\n",
       "\n",
       "    .dataframe thead th {\n",
       "        text-align: right;\n",
       "    }\n",
       "</style>\n",
       "<table border=\"1\" class=\"dataframe\">\n",
       "  <thead>\n",
       "    <tr style=\"text-align: right;\">\n",
       "      <th></th>\n",
       "      <th>ID</th>\n",
       "      <th>대출금액</th>\n",
       "      <th>대출기간</th>\n",
       "      <th>근로기간</th>\n",
       "      <th>주택소유상태</th>\n",
       "      <th>연간소득</th>\n",
       "      <th>부채_대비_소득_비율</th>\n",
       "      <th>총계좌수</th>\n",
       "      <th>대출목적</th>\n",
       "      <th>최근_2년간_연체_횟수</th>\n",
       "      <th>총상환원금</th>\n",
       "      <th>총상환이자</th>\n",
       "      <th>총연체금액</th>\n",
       "      <th>연체계좌수</th>\n",
       "    </tr>\n",
       "  </thead>\n",
       "  <tbody>\n",
       "    <tr>\n",
       "      <th>0</th>\n",
       "      <td>TEST_00000</td>\n",
       "      <td>16800000</td>\n",
       "      <td>0</td>\n",
       "      <td>1.752455</td>\n",
       "      <td>1</td>\n",
       "      <td>132000000</td>\n",
       "      <td>19.64</td>\n",
       "      <td>12</td>\n",
       "      <td>1.658929</td>\n",
       "      <td>0</td>\n",
       "      <td>394692</td>\n",
       "      <td>146604.0</td>\n",
       "      <td>0.0</td>\n",
       "      <td>0.0</td>\n",
       "    </tr>\n",
       "    <tr>\n",
       "      <th>1</th>\n",
       "      <td>TEST_00001</td>\n",
       "      <td>8400000</td>\n",
       "      <td>0</td>\n",
       "      <td>1.733098</td>\n",
       "      <td>3</td>\n",
       "      <td>89971200</td>\n",
       "      <td>15.84</td>\n",
       "      <td>25</td>\n",
       "      <td>1.850082</td>\n",
       "      <td>0</td>\n",
       "      <td>0</td>\n",
       "      <td>0.0</td>\n",
       "      <td>0.0</td>\n",
       "      <td>0.0</td>\n",
       "    </tr>\n",
       "    <tr>\n",
       "      <th>2</th>\n",
       "      <td>TEST_00002</td>\n",
       "      <td>17280000</td>\n",
       "      <td>0</td>\n",
       "      <td>1.744192</td>\n",
       "      <td>3</td>\n",
       "      <td>150000000</td>\n",
       "      <td>8.41</td>\n",
       "      <td>20</td>\n",
       "      <td>1.288163</td>\n",
       "      <td>0</td>\n",
       "      <td>1786980</td>\n",
       "      <td>281820.0</td>\n",
       "      <td>0.0</td>\n",
       "      <td>0.0</td>\n",
       "    </tr>\n",
       "  </tbody>\n",
       "</table>\n",
       "</div>"
      ],
      "text/plain": [
       "           ID      대출금액  대출기간      근로기간  주택소유상태       연간소득  부채_대비_소득_비율  총계좌수  \\\n",
       "0  TEST_00000  16800000     0  1.752455       1  132000000        19.64    12   \n",
       "1  TEST_00001   8400000     0  1.733098       3   89971200        15.84    25   \n",
       "2  TEST_00002  17280000     0  1.744192       3  150000000         8.41    20   \n",
       "\n",
       "       대출목적  최근_2년간_연체_횟수    총상환원금     총상환이자  총연체금액  연체계좌수  \n",
       "0  1.658929             0   394692  146604.0    0.0    0.0  \n",
       "1  1.850082             0        0       0.0    0.0    0.0  \n",
       "2  1.288163             0  1786980  281820.0    0.0    0.0  "
      ]
     },
     "execution_count": 219,
     "metadata": {},
     "output_type": "execute_result"
    }
   ],
   "source": [
    "test.head(3)"
   ]
  },
  {
   "cell_type": "code",
   "execution_count": 220,
   "metadata": {},
   "outputs": [],
   "source": [
    "# 스케일링\n",
    "\n",
    "from sklearn.preprocessing import StandardScaler\n",
    "\n",
    "scaler = StandardScaler()\n",
    "\n",
    "cols = ['대출금액' , '연간소득' , '부채_대비_소득_비율' , '총상환원금' , '총상환이자' , '총연체금액']\n",
    "\n",
    "data = train[cols]\n",
    "idx = data.index ; columns = data.columns\n",
    "\n",
    "data = scaler.fit_transform(data)\n",
    "data = pd.DataFrame(data , index = idx , columns = columns)\n",
    "\n",
    "train[cols] = data\n",
    "\n",
    "data = test[cols]\n",
    "idx = data.index ; columns = data.columns\n",
    "\n",
    "data = scaler.transform(data)\n",
    "data = pd.DataFrame(data , index = idx , columns = columns)\n",
    "\n",
    "test[cols] = data"
   ]
  },
  {
   "cell_type": "code",
   "execution_count": 221,
   "metadata": {},
   "outputs": [
    {
     "name": "stdout",
     "output_type": "stream",
     "text": [
      "----------------------------------------------------------------------------------------------------\n",
      "R2 Score\n",
      "train data r2 : 1.0 \n",
      "test data r2 : 0.7855548055454593\n",
      "----------------------------------------------------------------------------------------------------\n",
      "Confusion_matrix : \n",
      "\n",
      "Classficaiton Report :               precision    recall  f1-score   support\n",
      "\n",
      "           A       0.88      0.82      0.85      3350\n",
      "           B       0.80      0.85      0.82      5767\n",
      "           C       0.76      0.86      0.81      5490\n",
      "           D       0.72      0.65      0.68      2668\n",
      "           E       0.74      0.59      0.65      1484\n",
      "           F       0.71      0.45      0.55       407\n",
      "           G       0.89      0.09      0.16        93\n",
      "\n",
      "    accuracy                           0.79     19259\n",
      "   macro avg       0.79      0.61      0.65     19259\n",
      "weighted avg       0.79      0.79      0.78     19259\n",
      "\n"
     ]
    },
    {
     "data": {
      "image/png": "[encoded data removed]",
      "text/plain": [
       "<Figure size 640x480 with 2 Axes>"
      ]
     },
     "metadata": {},
     "output_type": "display_data"
    }
   ],
   "source": [
    "# 모델링\n",
    "\n",
    "from sklearn.model_selection import train_test_split\n",
    "from sklearn.metrics import classification_report , confusion_matrix\n",
    "from sklearn.ensemble import RandomForestClassifier\n",
    "\n",
    "target = train['대출등급']\n",
    "train.drop(['ID' , '대출등급'] , axis = 1 , inplace = True)\n",
    "test.drop(['ID'] , axis = 1 , inplace = True)\n",
    "\n",
    "trainX , validX , trainY , validY = train_test_split(train , target , test_size = 0.2 , random_state = 13)\n",
    "\n",
    "model = RandomForestClassifier()\n",
    "\n",
    "model.fit(trainX , trainY)\n",
    "\n",
    "print('-' * 100)\n",
    "print(\"R2 Score\")\n",
    "print(f\"train data r2 : {model.score(trainX , trainY)} \\ntest data r2 : {model.score(validX , validY)}\")\n",
    "print('-' * 100)\n",
    "\n",
    "valid_predict = model.predict(validX)\n",
    "print(\"Confusion_matrix : \\n\")\n",
    "sns.heatmap(\n",
    "    confusion_matrix(validY , valid_predict) ,\n",
    "    annot = True ,\n",
    "    fmt = 'd' ,\n",
    "    cmap = 'summer_r'\n",
    ")\n",
    "print(f\"Classficaiton Report : {classification_report(validY , valid_predict)}\")"
   ]
  },
  {
   "cell_type": "code",
   "execution_count": 222,
   "metadata": {},
   "outputs": [],
   "source": [
    "submission = pd.read_csv(path + 'sample_submission.csv')"
   ]
  },
  {
   "cell_type": "code",
   "execution_count": 223,
   "metadata": {},
   "outputs": [
    {
     "data": {
      "text/plain": [
       "array(['B', 'B', 'A', ..., 'C', 'C', 'A'], dtype=object)"
      ]
     },
     "execution_count": 223,
     "metadata": {},
     "output_type": "execute_result"
    }
   ],
   "source": [
    "test_predict = model.predict(test)\n",
    "test_predict"
   ]
  },
  {
   "cell_type": "code",
   "execution_count": 224,
   "metadata": {},
   "outputs": [
    {
     "data": {
      "text/html": [
       "<div>\n",
       "<style scoped>\n",
       "    .dataframe tbody tr th:only-of-type {\n",
       "        vertical-align: middle;\n",
       "    }\n",
       "\n",
       "    .dataframe tbody tr th {\n",
       "        vertical-align: top;\n",
       "    }\n",
       "\n",
       "    .dataframe thead th {\n",
       "        text-align: right;\n",
       "    }\n",
       "</style>\n",
       "<table border=\"1\" class=\"dataframe\">\n",
       "  <thead>\n",
       "    <tr style=\"text-align: right;\">\n",
       "      <th></th>\n",
       "      <th>ID</th>\n",
       "      <th>대출등급</th>\n",
       "    </tr>\n",
       "  </thead>\n",
       "  <tbody>\n",
       "    <tr>\n",
       "      <th>0</th>\n",
       "      <td>TEST_00000</td>\n",
       "      <td>G</td>\n",
       "    </tr>\n",
       "    <tr>\n",
       "      <th>1</th>\n",
       "      <td>TEST_00001</td>\n",
       "      <td>G</td>\n",
       "    </tr>\n",
       "    <tr>\n",
       "      <th>2</th>\n",
       "      <td>TEST_00002</td>\n",
       "      <td>G</td>\n",
       "    </tr>\n",
       "    <tr>\n",
       "      <th>3</th>\n",
       "      <td>TEST_00003</td>\n",
       "      <td>G</td>\n",
       "    </tr>\n",
       "    <tr>\n",
       "      <th>4</th>\n",
       "      <td>TEST_00004</td>\n",
       "      <td>G</td>\n",
       "    </tr>\n",
       "    <tr>\n",
       "      <th>...</th>\n",
       "      <td>...</td>\n",
       "      <td>...</td>\n",
       "    </tr>\n",
       "    <tr>\n",
       "      <th>64192</th>\n",
       "      <td>TEST_64192</td>\n",
       "      <td>G</td>\n",
       "    </tr>\n",
       "    <tr>\n",
       "      <th>64193</th>\n",
       "      <td>TEST_64193</td>\n",
       "      <td>G</td>\n",
       "    </tr>\n",
       "    <tr>\n",
       "      <th>64194</th>\n",
       "      <td>TEST_64194</td>\n",
       "      <td>G</td>\n",
       "    </tr>\n",
       "    <tr>\n",
       "      <th>64195</th>\n",
       "      <td>TEST_64195</td>\n",
       "      <td>G</td>\n",
       "    </tr>\n",
       "    <tr>\n",
       "      <th>64196</th>\n",
       "      <td>TEST_64196</td>\n",
       "      <td>G</td>\n",
       "    </tr>\n",
       "  </tbody>\n",
       "</table>\n",
       "<p>64197 rows × 2 columns</p>\n",
       "</div>"
      ],
      "text/plain": [
       "               ID 대출등급\n",
       "0      TEST_00000    G\n",
       "1      TEST_00001    G\n",
       "2      TEST_00002    G\n",
       "3      TEST_00003    G\n",
       "4      TEST_00004    G\n",
       "...           ...  ...\n",
       "64192  TEST_64192    G\n",
       "64193  TEST_64193    G\n",
       "64194  TEST_64194    G\n",
       "64195  TEST_64195    G\n",
       "64196  TEST_64196    G\n",
       "\n",
       "[64197 rows x 2 columns]"
      ]
     },
     "execution_count": 224,
     "metadata": {},
     "output_type": "execute_result"
    }
   ],
   "source": [
    "submission"
   ]
  },
  {
   "cell_type": "code",
   "execution_count": 225,
   "metadata": {},
   "outputs": [],
   "source": [
    "submission['대출등급'] = test_predict\n",
    "submission.to_csv(path + 'submission.csv' , index = False)"
   ]
  }
 ],
 "metadata": {
  "kernelspec": {
   "display_name": "Dacon_Hackerton",
   "language": "python",
   "name": "python3"
  },
  "language_info": {
   "codemirror_mode": {
    "name": "ipython",
    "version": 3
   },
   "file_extension": ".py",
   "mimetype": "text/x-python",
   "name": "python",
   "nbconvert_exporter": "python",
   "pygments_lexer": "ipython3",
   "version": "3.11.7"
  }
 },
 "nbformat": 4,
 "nbformat_minor": 2
}
